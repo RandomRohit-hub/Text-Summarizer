{
 "cells": [
  {
   "cell_type": "code",
   "execution_count": 47,
   "id": "84b14450",
   "metadata": {},
   "outputs": [
    {
     "data": {
      "text/plain": [
       "True"
      ]
     },
     "execution_count": 47,
     "metadata": {},
     "output_type": "execute_result"
    }
   ],
   "source": [
    "import os\n",
    "from dotenv import load_dotenv\n",
    "load_dotenv()"
   ]
  },
  {
   "cell_type": "code",
   "execution_count": 48,
   "id": "a9a6c55a",
   "metadata": {},
   "outputs": [],
   "source": [
    "from langchain_groq import ChatGroq\n",
    "api_key=os.getenv(\"GROQ_API_KEY\")\n",
    "llm=ChatGroq(groq_api_key=api_key,model=\"llama3-8b-8192\")\n",
    "# llm"
   ]
  },
  {
   "cell_type": "code",
   "execution_count": 49,
   "id": "c3021ab8",
   "metadata": {},
   "outputs": [],
   "source": [
    "from langchain.schema import(\n",
    "    AIMessage,\n",
    "    HumanMessage,SystemMessage\n",
    "\n",
    ")"
   ]
  },
  {
   "cell_type": "code",
   "execution_count": 50,
   "id": "762f8cbe",
   "metadata": {},
   "outputs": [],
   "source": [
    "speech=\"\"\"\n",
    "People across the country, involved in government, political, and social activities, are dedicating their time to make the ‘Viksit Bharat Sankalp Yatra’ (Developed India Resolution Journey) successful. Therefore, as a Member of Parliament, it was my responsibility to also contribute my time to this program. So, today, I have come here just as a Member of Parliament and your ‘sevak’, ready to participate in this program, much like you.\n",
    "\n",
    "In our country, governments have come and gone, numerous schemes have been formulated, discussions have taken place, and big promises have been made. However, my experience and observations led me to believe that the most critical aspect that requires attention is ensuring that the government’s plans reach the intended beneficiaries without any hassles. If there is a ‘Pradhan Mantri Awas Yojana’ (Prime Minister’s housing scheme), then those who are living in jhuggis and slums should get their houses. And he should not need to make rounds of the government offices for this purpose. The government should reach him. Since you have assigned this responsibility to me, about four crore families have got their ‘pucca’ houses. However, I have encountered cases where someone is left out of the government benefits. Therefore, I have decided to tour the country again, to listen to people’s experiences with government schemes, to understand whether they received the intended benefits, and to ensure that the programs are reaching everyone as planned without paying any bribes. We will get the real picture if we visit them again. Therefore, this ‘Viksit Bharat Sankalp Yatra’ is, in a way, my own examination. I want to hear from you and the people across the country whether what I envisioned and the work I have been doing aligns with reality and whether it has reached those for whom it was meant.\n",
    "\n",
    "It is crucial to check whether the work that was supposed to happen has indeed taken place. I recently met some individuals who utilized the Ayushman card to get treatment for serious illnesses. One person met with a severe accident, and after using the card, he could afford the necessary operation, and now he is recovering well. When I asked him, he said: “How could I afford this treatment? Now that there is the Ayushman card, I mustered courage and underwent an operation. Now I am perfectly fine.”  Such stories are blessings to me.\n",
    "\n",
    "The bureaucrats, who prepare good schemes, expedite the paperwork and even allocate funds, also feel satisfied that 50 or 100 people who were supposed to get the funds have got it. The funds meant for a thousand villages have been released. But their job satisfaction peaks when they hear that their work has directly impacted someone’s life positively. When they see the tangible results of their efforts, their enthusiasm multiplies. They feel satisfied. Therefore, ‘Viksit Bharat Sankalp Yatra’ has had a positive impact on government officers. It has made them more enthusiastic about their work, especially when they witness the tangible benefits reaching the people. Officers now feel satisfied with their work, saying, “I made a good plan, I created a file, and the intended beneficiaries received the benefits.” When they find that the money has reached a poor widow under the Jeevan Jyoti scheme and it was a great help to her during her crisis, they realise that they have done a good job. When a government officer listens to such stories, he feels very satisfied.\n",
    "\n",
    "There are very few who understand the power and impact of the ‘Viksit Bharat Sankalp Yatra’. When I hear people connected to bureaucratic circles talking about it, expressing their satisfaction, it resonates with me. I’ve heard stories where someone suddenly received 2 lakh rupees after the death of her husband, and a sister mentioned how the arrival of gas in her home transformed her lives. The most significant aspect is when someone says that the line between rich and poor has vanished. While the slogan ‘Garibi Hatao’ (Remove Poverty) is one thing, but the real change happens when a person says, “As soon as the gas stove came to my house, the distinction between poverty and affluence disappeared.\n",
    "\"\"\""
   ]
  },
  {
   "cell_type": "code",
   "execution_count": 51,
   "id": "4f1b8549",
   "metadata": {},
   "outputs": [],
   "source": [
    "chat_message = [\n",
    "    SystemMessage(content=\"You are an expert in summarizing speeches and various types of text with clarity and precision.\"),\n",
    "    HumanMessage(content=f\"Please provide a concise and well-structured summary of the following speech:\\n\\nText: {speech}\")\n",
    "]\n"
   ]
  },
  {
   "cell_type": "code",
   "execution_count": 52,
   "id": "28438054",
   "metadata": {},
   "outputs": [
    {
     "data": {
      "text/plain": [
       "909"
      ]
     },
     "execution_count": 52,
     "metadata": {},
     "output_type": "execute_result"
    }
   ],
   "source": [
    "llm.get_num_tokens(speech)"
   ]
  },
  {
   "cell_type": "code",
   "execution_count": 53,
   "id": "41e0aaf8",
   "metadata": {},
   "outputs": [
    {
     "data": {
      "text/plain": [
       "'Here is a concise and well-structured summary of the speech:\\n\\nThe speaker, a Member of Parliament, emphasizes the importance of ensuring that government plans and schemes reach their intended beneficiaries without any obstacles. They have taken it upon themselves to tour the country again to listen to people\\'s experiences with government schemes, to understand whether they have received the intended benefits, and to ensure that the programs are reaching everyone as planned without corruption.\\n\\nThe speaker shares personal experiences and stories of individuals who have benefited from government schemes, such as the Pradhan Mantri Awas Yojana and Ayushman card. They highlight the impact of these schemes on individuals\\' lives, such as receiving treatment for serious illnesses and affording necessary operations.\\n\\nThe speaker also emphasizes the importance of bureaucrats\\' job satisfaction, stating that when they see the tangible results of their efforts, they feel more enthusiastic about their work. The \"Viksit Bharat Sankalp Yatra\" has had a positive impact on government officers, making them feel satisfied with their work when they see the benefits reaching the people.\\n\\nUltimately, the speaker believes that the \"Viksit Bharat Sankalp Yatra\" has the power to bring about real change in people\\'s lives, as evident in stories of individuals who have benefited from government schemes and no longer distinguish between poverty and affluence.'"
      ]
     },
     "execution_count": 53,
     "metadata": {},
     "output_type": "execute_result"
    }
   ],
   "source": [
    "llm(chat_message).content"
   ]
  },
  {
   "cell_type": "code",
   "execution_count": 54,
   "id": "3cddb089",
   "metadata": {},
   "outputs": [],
   "source": [
    "\n",
    "\n",
    "# chat_message = [\n",
    "#     SystemMessage(content=\"You are an expert in summarizing speeches and various types of text with clarity and precision.\"),\n",
    "#     HumanMessage(content=f\"Please provide a concise and well-structured summary of the following speech:\\n\\nText: {speech}\")\n",
    "# ]\n",
    "\n",
    "# response = llm.invoke(chat_message)  # Use .invoke() instead of __call__ if you're using latest LangChain\n",
    "# print(response.content)\n"
   ]
  },
  {
   "cell_type": "code",
   "execution_count": 55,
   "id": "252ee4f2",
   "metadata": {},
   "outputs": [],
   "source": [
    "## prompt template\n",
    "\n"
   ]
  },
  {
   "cell_type": "code",
   "execution_count": 56,
   "id": "6efdb0d6",
   "metadata": {},
   "outputs": [
    {
     "data": {
      "text/plain": [
       "PromptTemplate(input_variables=['language', 'speech'], input_types={}, partial_variables={}, template='\\nwrite a summary of following speech :\\nspeech{speech}\\ntranslate the precise summary to {language}\\n')"
      ]
     },
     "execution_count": 56,
     "metadata": {},
     "output_type": "execute_result"
    }
   ],
   "source": [
    "from langchain.chains import LLMChain\n",
    "from langchain import PromptTemplate\n",
    "\n",
    "\n",
    "genericTemplate=\"\"\"\n",
    "write a summary of following speech :\n",
    "speech{speech}\n",
    "translate the precise summary to {language}\n",
    "\"\"\"\n",
    "\n",
    "\n",
    "prompt=PromptTemplate(\n",
    "    input_var=['speech','language'],\n",
    "    template=genericTemplate\n",
    ")\n",
    "\n",
    "prompt"
   ]
  },
  {
   "cell_type": "code",
   "execution_count": 57,
   "id": "7ab545ed",
   "metadata": {},
   "outputs": [],
   "source": [
    "complete_prompt=prompt.format(speech=speech,language='French')\n",
    "\n"
   ]
  },
  {
   "cell_type": "code",
   "execution_count": 58,
   "id": "2e738fa8",
   "metadata": {},
   "outputs": [
    {
     "data": {
      "text/plain": [
       "'\\nwrite a summary of following speech :\\nspeech\\nPeople across the country, involved in government, political, and social activities, are dedicating their time to make the ‘Viksit Bharat Sankalp Yatra’ (Developed India Resolution Journey) successful. Therefore, as a Member of Parliament, it was my responsibility to also contribute my time to this program. So, today, I have come here just as a Member of Parliament and your ‘sevak’, ready to participate in this program, much like you.\\n\\nIn our country, governments have come and gone, numerous schemes have been formulated, discussions have taken place, and big promises have been made. However, my experience and observations led me to believe that the most critical aspect that requires attention is ensuring that the government’s plans reach the intended beneficiaries without any hassles. If there is a ‘Pradhan Mantri Awas Yojana’ (Prime Minister’s housing scheme), then those who are living in jhuggis and slums should get their houses. And he should not need to make rounds of the government offices for this purpose. The government should reach him. Since you have assigned this responsibility to me, about four crore families have got their ‘pucca’ houses. However, I have encountered cases where someone is left out of the government benefits. Therefore, I have decided to tour the country again, to listen to people’s experiences with government schemes, to understand whether they received the intended benefits, and to ensure that the programs are reaching everyone as planned without paying any bribes. We will get the real picture if we visit them again. Therefore, this ‘Viksit Bharat Sankalp Yatra’ is, in a way, my own examination. I want to hear from you and the people across the country whether what I envisioned and the work I have been doing aligns with reality and whether it has reached those for whom it was meant.\\n\\nIt is crucial to check whether the work that was supposed to happen has indeed taken place. I recently met some individuals who utilized the Ayushman card to get treatment for serious illnesses. One person met with a severe accident, and after using the card, he could afford the necessary operation, and now he is recovering well. When I asked him, he said: “How could I afford this treatment? Now that there is the Ayushman card, I mustered courage and underwent an operation. Now I am perfectly fine.”  Such stories are blessings to me.\\n\\nThe bureaucrats, who prepare good schemes, expedite the paperwork and even allocate funds, also feel satisfied that 50 or 100 people who were supposed to get the funds have got it. The funds meant for a thousand villages have been released. But their job satisfaction peaks when they hear that their work has directly impacted someone’s life positively. When they see the tangible results of their efforts, their enthusiasm multiplies. They feel satisfied. Therefore, ‘Viksit Bharat Sankalp Yatra’ has had a positive impact on government officers. It has made them more enthusiastic about their work, especially when they witness the tangible benefits reaching the people. Officers now feel satisfied with their work, saying, “I made a good plan, I created a file, and the intended beneficiaries received the benefits.” When they find that the money has reached a poor widow under the Jeevan Jyoti scheme and it was a great help to her during her crisis, they realise that they have done a good job. When a government officer listens to such stories, he feels very satisfied.\\n\\nThere are very few who understand the power and impact of the ‘Viksit Bharat Sankalp Yatra’. When I hear people connected to bureaucratic circles talking about it, expressing their satisfaction, it resonates with me. I’ve heard stories where someone suddenly received 2 lakh rupees after the death of her husband, and a sister mentioned how the arrival of gas in her home transformed her lives. The most significant aspect is when someone says that the line between rich and poor has vanished. While the slogan ‘Garibi Hatao’ (Remove Poverty) is one thing, but the real change happens when a person says, “As soon as the gas stove came to my house, the distinction between poverty and affluence disappeared.\\n\\ntranslate the precise summary to French\\n'"
      ]
     },
     "execution_count": 58,
     "metadata": {},
     "output_type": "execute_result"
    }
   ],
   "source": [
    "complete_prompt"
   ]
  },
  {
   "cell_type": "code",
   "execution_count": 59,
   "id": "8b87e938",
   "metadata": {},
   "outputs": [
    {
     "data": {
      "text/plain": [
       "928"
      ]
     },
     "execution_count": 59,
     "metadata": {},
     "output_type": "execute_result"
    }
   ],
   "source": [
    "llm.get_num_tokens(complete_prompt)"
   ]
  },
  {
   "cell_type": "code",
   "execution_count": 62,
   "id": "f649e8a8",
   "metadata": {},
   "outputs": [
    {
     "data": {
      "text/plain": [
       "'Here is a summary of the speech and its translation to Japanese:\\n\\n**Summary:**\\n\\nThe speaker, a Member of Parliament, is participating in the \"Viksit Bharat Sankalp Yatra\" (Developed India Resolution Journey) to ensure that government schemes reach the intended beneficiaries without obstacles. The speaker has seen firsthand that many people have benefited from government programs, such as the Pradhan Mantri Awas Yojana (Prime Minister\\'s housing scheme) and Ayushman card, which have made a positive impact on their lives. The speaker believes that it is crucial to check if government work is reaching the people it is meant for and is using the \"Viksit Bharat Sankalp Yatra\" as an opportunity to do so.\\n\\n**Japanese Translation:**\\n\\nのspeechには、議員が参加し、政府のスキームが受け手達に到達することを確保するため、「ヴィクシット・バラト・サンクループ・ヤートラ」を実施しています。この議員は、政府のプログラムであるプライム・ミニスター・アワーズ・ヨジャナ（Prime Minister\\'s housing scheme）やアイシュマンカードなどが、人々の生活にPOSITIVE IMPACTを与えていると実際に経験しています。この議員は、政府の仕事が、自分達に目的の者達に到達しているかどうかをチェックすることを重要であると考えています。\\n\\nNote: Please note that the translation is a precise summary of the original text, but may not be a perfect translation in terms of nuance and cultural context.'"
      ]
     },
     "execution_count": 62,
     "metadata": {},
     "output_type": "execute_result"
    }
   ],
   "source": [
    "llm_chain=LLMChain(llm=llm,prompt=prompt)\n",
    "summary=llm_chain.run({'speech':speech,'language':'Japanese'})\n",
    "summary"
   ]
  },
  {
   "cell_type": "code",
   "execution_count": null,
   "id": "ee0bc9a1",
   "metadata": {},
   "outputs": [],
   "source": []
  }
 ],
 "metadata": {
  "kernelspec": {
   "display_name": "base",
   "language": "python",
   "name": "python3"
  },
  "language_info": {
   "codemirror_mode": {
    "name": "ipython",
    "version": 3
   },
   "file_extension": ".py",
   "mimetype": "text/x-python",
   "name": "python",
   "nbconvert_exporter": "python",
   "pygments_lexer": "ipython3",
   "version": "3.12.3"
  }
 },
 "nbformat": 4,
 "nbformat_minor": 5
}
